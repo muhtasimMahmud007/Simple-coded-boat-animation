{
  "nbformat": 4,
  "nbformat_minor": 0,
  "metadata": {
    "colab": {
      "provenance": []
    },
    "kernelspec": {
      "name": "python3",
      "display_name": "Python 3"
    },
    "language_info": {
      "name": "python"
    },
    "accelerator": "GPU"
  },
  "cells": [
    {
      "cell_type": "code",
      "source": [
        "!pip install -q lucid>=0.2.3"
      ],
      "metadata": {
        "id": "L3y0yGFYiWRI"
      },
      "execution_count": null,
      "outputs": []
    },
    {
      "cell_type": "code",
      "source": [
        "import numpy as np\n",
        "\n",
        "import ctypes.util\n",
        "from lucid.misc.gl.glcontext import create_opengl_context\n",
        "\n",
        "# Now it's safe to import OpenGL and EGL functions\n",
        "import OpenGL.GL as gl\n",
        "from OpenGL.GLU import *\n",
        "\n",
        "# create_opengl_context() creates GL context that is attached to an\n",
        "# offscreen surface of specified size. Note that rendering to buffers\n",
        "# of different size and format is still possible with OpenGL Framebuffers.\n",
        "#\n",
        "# Users are expected to directly use EGL calls in case more advanced\n",
        "# context management is required.\n",
        "WIDTH, HEIGHT = 1500,1000\n",
        "create_opengl_context((WIDTH, HEIGHT))\n",
        "\n",
        "# OpenGL context is available here.\n",
        "\n",
        "print(gl.glGetString(gl.GL_VERSION))\n",
        "print(gl.glGetString(gl.GL_VENDOR))\n",
        "#print(gl.glGetString(gl.GL_EXTENSIONS))"
      ],
      "metadata": {
        "id": "YXv13t34XX7o",
        "colab": {
          "base_uri": "https://localhost:8080/"
        },
        "outputId": "13774ffa-ca31-492a-df8b-8b8faf6472af"
      },
      "execution_count": null,
      "outputs": [
        {
          "output_type": "stream",
          "name": "stdout",
          "text": [
            "b'4.6.0 NVIDIA 460.32.03'\n",
            "b'NVIDIA Corporation'\n"
          ]
        }
      ]
    },
    {
      "cell_type": "code",
      "source": [
        "def addVertex(a,b):#add vertex with point size 4\n",
        "   gl.glPointSize(4) #pixel size. by default 1 thake\n",
        "   gl.glBegin(gl.GL_POINTS)\n",
        "   gl.glVertex2f( a/(WIDTH/2), b/(HEIGHT/2) ) #jekhane show korbe pixel\n",
        "   gl.glEnd()"
      ],
      "metadata": {
        "id": "dFbIAuLJVfH7"
      },
      "execution_count": null,
      "outputs": []
    },
    {
      "cell_type": "code",
      "source": [
        "def addVertex_y(a,b):#add vertex with point size 5\n",
        "   gl.glPointSize(5) #pixel size. by default 1 thake\n",
        "   gl.glBegin(gl.GL_POINTS)\n",
        "   gl.glVertex2f( a/(WIDTH/2), b/(HEIGHT/2) ) #jekhane show korbe pixel\n",
        "   gl.glEnd()"
      ],
      "metadata": {
        "id": "w0GLHJfUkkTI"
      },
      "execution_count": null,
      "outputs": []
    },
    {
      "cell_type": "code",
      "source": [
        "import math\n",
        "import random"
      ],
      "metadata": {
        "id": "IxaGC_wmWAW0"
      },
      "execution_count": null,
      "outputs": []
    },
    {
      "cell_type": "code",
      "source": [
        "def zoneFind(x1, y1, x2, y2):#zone finder\n",
        "   zone = 0\n",
        "   dx = x2 - x1\n",
        "   dy = y2 - y1\n",
        "   if abs(dx) > abs(dy):\n",
        "       if (x2 > x1 and y2 >= y1):\n",
        "           zone = 0\n",
        "       elif (x2 < x1 and y2 >= y1):\n",
        "           zone = 3\n",
        "       elif (x2 < x1 and y2 < y1):\n",
        "           zone = 4\n",
        "       elif (x2 > x1 and y2 < y1):\n",
        "           zone = 7\n",
        "   else:\n",
        "       if (x2 >= x1 and y2 > y1):\n",
        "           zone = 1\n",
        "       elif (x2 < x1 and y2 > y1):\n",
        "           zone = 2\n",
        "       elif (x2 < x1 and y2 < y1):\n",
        "           zone = 5\n",
        "       elif (x2 >= x1 and y2 < y1):\n",
        "           zone = 6\n",
        "   return zone\n",
        "\n",
        "\n",
        "def zoneConvert(a, b, x, y):#zone convertion form 0-any or any-0\n",
        "   if a == 0:\n",
        "       if b == 1:\n",
        "           return y, x\n",
        "       elif b == 2:\n",
        "           return -1 * y, x\n",
        "       elif b == 3:\n",
        "           return -1 * x, y\n",
        "       elif b == 4:\n",
        "           return -1 * x, -1 * y\n",
        "       elif b == 5:\n",
        "           return -1 * y, -1 * x\n",
        "       elif b == 6:\n",
        "           return y, -1 * x\n",
        "       elif b == 7:\n",
        "           return x, -1 * y\n",
        "   else:\n",
        "       if a == 1:\n",
        "           return y, x\n",
        "       elif a == 2:\n",
        "           return y, -1 * x\n",
        "       elif a == 3:\n",
        "           return -1 * x, y\n",
        "       elif a == 4:\n",
        "           return -1 * x, -1 * y\n",
        "       elif a == 5:\n",
        "           return -1 * y, -1 * x\n",
        "       elif a == 6:\n",
        "           return -1 * y, x\n",
        "       elif a == 7:\n",
        "           return x, -1 * y\n",
        "\n",
        "\n",
        "def midPoint(x1, y1, x2, y2):#midPoint line drawing\n",
        "   zone = zoneFind(x1, y1, x2, y2)\n",
        "   if zone == 0:\n",
        "       dx = x2 - x1\n",
        "       dy = y2 - y1\n",
        "       d = 2 * dy - dx\n",
        "       incE = 2 * dy\n",
        "       incNE = 2 * (dy - dx)\n",
        "       y = y1\n",
        "       for x in range(x1, x2 + 1):\n",
        "           addVertex(x, y)\n",
        "           if d > 0:\n",
        "               d = d + incNE\n",
        "               y = y + 1\n",
        "           else:\n",
        "               d = d + incE\n",
        "   else:\n",
        "       x_1, y_1 = zoneConvert(zone, 0, x1, y1)\n",
        "       x_2, y_2 = zoneConvert(zone, 0, x2, y2)\n",
        "       dx = x_2 - x_1\n",
        "       dy = y_2 - y_1\n",
        "       d = 2 * dy - dx\n",
        "       incE = 2 * dy\n",
        "       incNE = 2 * (dy - dx)\n",
        "       y = y_1\n",
        "       for x in range(x_1, x_2 + 1):\n",
        "           temp_1, temp_2 = zoneConvert(0, zone, x, y)\n",
        "           addVertex(temp_1, temp_2)\n",
        "           if d > 0:\n",
        "               d = d + incNE\n",
        "               y = y + 1\n",
        "           else:\n",
        "               d = d + incE\n",
        "\n",
        "def circle(r):#circle with exactly (0,0) center / UNUSED\n",
        "   x=r\n",
        "   y=0\n",
        "   d = 1 - r\n",
        "   while x > y:\n",
        "       y += 1\n",
        "       if d <= 0:\n",
        "           d = d + 2 * y + 1\n",
        "       else:\n",
        "           x -= 1\n",
        "           d = d + 2 * y - 2 * x + 1\n",
        "       if (x < y):\n",
        "           break\n",
        "       else:\n",
        "           addVertex(x,y)\n",
        "           for i in range(1,8):\n",
        "               temp_1,temp_2=zoneConvert(0, i, x, y)\n",
        "               addVertex(temp_1,temp_2)\n",
        "def inner_circle(center_x,center_y,r):#circle with (x,y) center\n",
        "   x=r\n",
        "   y=0\n",
        "   d = 1 - r\n",
        "   while x > y:\n",
        "       y += 1\n",
        "       if d <= 0:\n",
        "           d = d + 2 * y + 1\n",
        "       else:\n",
        "           x -= 1\n",
        "           d = d + 2 * y - 2 * x + 1\n",
        "       if (x < y):\n",
        "           break\n",
        "       else:\n",
        "           addVertex(x+center_x,y+center_y)\n",
        "           for i in range(1,8):\n",
        "                temp_1, temp_2 = zoneConvert(0, i, x, y)\n",
        "                addVertex(temp_1 + center_x, temp_2 + center_y)\n",
        "\n",
        "def inner_design(n,r,x_c,y_c):#extra code\n",
        "   angle=0\n",
        "   step=(2*math.pi)/n\n",
        "   x=r*(math.cos(angle))+x_c\n",
        "   y=r*(math.sin(angle))+y_c\n",
        "   inner_circle(x,y,r)\n",
        "   angle += step\n",
        "   number = 1\n",
        "   while(number<n):\n",
        "           x = r * (math.cos(angle))+x_c\n",
        "           y = r * (math.sin(angle))+y_c\n",
        "           inner_circle(x,y, r)\n",
        "           angle += step\n",
        "           number += 1\n",
        "\n",
        "def designed_circle(r,x,y,n=0): #extra code\n",
        "   inner_circle(x,y,r)\n",
        "   if n>0:\n",
        "    inner_design(n, r // 2,x,y)"
      ],
      "metadata": {
        "id": "_rFOtS_TVfuU"
      },
      "execution_count": null,
      "outputs": []
    },
    {
      "cell_type": "code",
      "source": [
        "def block_circle(x,y,r):#coloured circle\n",
        "  inner_circle(x,y,r)\n",
        "  temp=r-1\n",
        "  while temp>=0:\n",
        "    inner_circle(x,y,temp)\n",
        "    temp-=1"
      ],
      "metadata": {
        "id": "aBl8VgfzfiOJ"
      },
      "execution_count": null,
      "outputs": []
    },
    {
      "cell_type": "code",
      "source": [
        "def inner_design_cloud(n,r,x_c,y_c):#cloud circle\n",
        "   angle=0\n",
        "   step=(2*math.pi)/n\n",
        "   x=r*(math.cos(angle))+x_c\n",
        "   y=r*(math.sin(angle))+y_c\n",
        "   inner_circle(x,y,r)\n",
        "   angle += step\n",
        "   number = 1\n",
        "   while(number<=n):\n",
        "           x = r * (math.cos(angle))+x_c\n",
        "           y = r * (math.sin(angle))+y_c\n",
        "           block_circle(x,y,r)\n",
        "           angle += step\n",
        "           number += 1"
      ],
      "metadata": {
        "id": "ZDpW9VCqHb9h"
      },
      "execution_count": null,
      "outputs": []
    },
    {
      "cell_type": "code",
      "source": [
        "def designed_circle_cloud(r,x,y,n=0):#cloud circle\n",
        "   inner_circle(x,y,r)\n",
        "   if n>0:\n",
        "    inner_design_cloud(n, r ,x,y)"
      ],
      "metadata": {
        "id": "BUyRGht9DSHe"
      },
      "execution_count": null,
      "outputs": []
    },
    {
      "cell_type": "code",
      "source": [
        "def midPoint_ship(x1, y1, x2, y2):#point to line drawing code / unused\n",
        "   zone = zoneFind(x1, y1, x2, y2)\n",
        "   if zone == 0:\n",
        "       dx = x2 - x1\n",
        "       dy = y2 - y1\n",
        "       d = 2 * dy - dx\n",
        "       incE = 2 * dy\n",
        "       incNE = 2 * (dy - dx)\n",
        "       y = y1\n",
        "       for x in range(x1, x2 + 1):\n",
        "           midPoint(x, y,x-200,y)\n",
        "           if d > 0:\n",
        "               d = d + incNE\n",
        "               y = y + 1\n",
        "           else:\n",
        "               d = d + incE\n",
        "   else:\n",
        "       x_1, y_1 = zoneConvert(zone, 0, x1, y1)\n",
        "       x_2, y_2 = zoneConvert(zone, 0, x2, y2)\n",
        "       dx = x_2 - x_1\n",
        "       dy = y_2 - y_1\n",
        "       d = 2 * dy - dx\n",
        "       incE = 2 * dy\n",
        "       incNE = 2 * (dy - dx)\n",
        "       y = y_1\n",
        "       for x in range(x_1, x_2 + 1):\n",
        "           temp_1, temp_2 = zoneConvert(0, zone, x, y)\n",
        "           midPoint(temp_1, temp_2,temp_1-200,temp_2)\n",
        "           if d > 0:\n",
        "               d = d + incNE\n",
        "               y = y + 1\n",
        "           else:\n",
        "               d = d + incE"
      ],
      "metadata": {
        "id": "ywDFf7dvmxgS"
      },
      "execution_count": null,
      "outputs": []
    },
    {
      "cell_type": "code",
      "source": [
        "def sun(position=\"Morning\",size=1):\n",
        "  if position==\"Morning\":\n",
        "    gl.glColor3f(1.0,1.0, 0.0)\n",
        "    block_circle(500,430,size*60)\n",
        "  elif position==\"Afternoon\":\n",
        "    gl.glColor3f(1.0, .5, 0.0)\n",
        "    block_circle(-500,430,size*60)\n",
        "  elif position==\"Noon\":\n",
        "    gl.glColor3f(1.0, .7, 0.0)\n",
        "    block_circle(190,430,size*60)"
      ],
      "metadata": {
        "id": "-A1L_WU10lXh"
      },
      "execution_count": null,
      "outputs": []
    },
    {
      "cell_type": "code",
      "source": [
        "def moon(size=1):\n",
        "    gl.glColor3f(0.8, 0.8, 0.8)\n",
        "    block_circle(500,430,size*50)\n",
        "    gl.glColor3f(1, 1, 1)\n",
        "    block_circle(500,435,size*45)\n",
        "    #designed_circle(50,500,-380,360)"
      ],
      "metadata": {
        "id": "Q9JqGFCD-z8u"
      },
      "execution_count": null,
      "outputs": []
    },
    {
      "cell_type": "code",
      "source": [
        "def sky(time=\"Morning\"):\n",
        "  if time==\"Morning\":\n",
        "   gl.glColor3f(.51, 1.53,2.55)\n",
        "  elif time==\"Night\":\n",
        "    gl.glColor3f(0, 0,.5)\n",
        "  elif time==\"Afternoon\":\n",
        "    gl.glColor3f(0.1, 0.26,2.53)\n",
        "  elif time==\"Noon\":\n",
        "    gl.glColor3f(0, 0.46,2.53)\n",
        "  for i in range(10,501):\n",
        "    midPoint(-750,i,750,i)"
      ],
      "metadata": {
        "id": "uwfimc2_3EGT"
      },
      "execution_count": null,
      "outputs": []
    },
    {
      "cell_type": "code",
      "source": [
        "def cloud(n=1,r=60):\n",
        "  y=380\n",
        "  diff=750//n\n",
        "  gl.glColor3f(0.6, 0.6, 0.6)\n",
        "  for i in range(-750,751,diff):\n",
        "    x=i\n",
        "    block_circle(x,430,r)\n",
        "    designed_circle_cloud(r,x,430,6)"
      ],
      "metadata": {
        "id": "_jr8xNbFAOJ2"
      },
      "execution_count": null,
      "outputs": []
    },
    {
      "cell_type": "code",
      "source": [
        "import math\n",
        "import random\n",
        "def star(n=100):\n",
        "  gl.glColor3f(160, 160, 160)\n",
        "  for i in range(n):\n",
        "   a=float(random.randint(-1*750,750))\n",
        "   b=float(random.randint(100,499))\n",
        "   addVertex(a,b)"
      ],
      "metadata": {
        "id": "aei5fKDrMnSS"
      },
      "execution_count": null,
      "outputs": []
    },
    {
      "cell_type": "code",
      "source": [
        "import math\n",
        "import random\n",
        "def ocean(time=\"Night\",wave=10):\n",
        "  gl.glColor3f(0,0,0)\n",
        "  for i in range(9,3,-1):\n",
        "    midPoint(-750,i,750,i)\n",
        "  if time==\"Night\":\n",
        "    gl.glColor3f(0,0,.3)\n",
        "  else:\n",
        "    gl.glColor3f(0,0,.6)\n",
        "  for i in range(3,-500,-1):\n",
        "    midPoint(-750,i,750,i)\n",
        "  gl.glColor3f(0, 0, 0)\n",
        "  for i in range(0,wave,1):\n",
        "    a=random.randint(-1*750,750)\n",
        "    c=random.randint(-1*750,750)\n",
        "    b=random.randint(-499,3)\n",
        "    midPoint(a,b,c,b)"
      ],
      "metadata": {
        "id": "OXMXt-DWDHkj"
      },
      "execution_count": null,
      "outputs": []
    },
    {
      "cell_type": "code",
      "source": [
        "def addVertex_x(a,b):#add vertex for OpenGL QUADS\n",
        "    gl.glVertex2f( a/(WIDTH/2), b/(HEIGHT/2) )"
      ],
      "metadata": {
        "id": "6RTBmGj2bPTU"
      },
      "execution_count": null,
      "outputs": []
    },
    {
      "cell_type": "code",
      "source": [
        "def translation(x,y,amnt_x,amnt_y=0):\n",
        "    # move the point to a direction by a certain amount\n",
        "    matrix1 = np.array([[x], [y]])\n",
        "    matrix2 = np.array([[amnt_x], [amnt_y]])\n",
        "    result = np.add(matrix1, matrix2)\n",
        "    return result[0],result[1]"
      ],
      "metadata": {
        "id": "4wEwu9FPT4Oc"
      },
      "execution_count": null,
      "outputs": []
    },
    {
      "cell_type": "code",
      "source": [
        "import math\n",
        "import random\n",
        "def ship(x=0,y=-230,size=1):\n",
        "  gl.glColor3f(0,0,0)\n",
        "  gl.glBegin(gl.GL_QUADS)#base\n",
        "  addVertex_x((x+size*100),(y))\n",
        "  addVertex_x((x+size*80),(y-size*30))\n",
        "  addVertex_x((x-size*80),(y-size*30))\n",
        "  addVertex_x((x-size*100),(y))\n",
        "  gl.glEnd()\n",
        "  gl.glColor3f(0, 0, 0)\n",
        "  midPoint((x+size*100),(y),(x+size*80),(y-size*30))#border\n",
        "  midPoint((x+size*80),(y-size*30),(x-size*80),(y-size*30))\n",
        "  midPoint((x-size*80),(y-size*30),(x-size*100),(y))\n",
        "  midPoint((x-size*100),(y),(x+size*100),(y))\n",
        "  dif=((size*100+x-x+size*100))//4\n",
        "  for temp in range(((x-size*100))+dif,(x+size*100),dif):#windows\n",
        "    gl.glColor3f(1,1,0)\n",
        "    block_circle(temp,((y+(y-size*30))//2),((y-(y-size*30))//2)-size*10)\n",
        "\n",
        "  gl.glColor3f(1,1,1)\n",
        "  gl.glBegin(gl.GL_QUADS)#floor1\n",
        "  addVertex_x((x+size*80),(y+size*20))\n",
        "  addVertex_x((x+size*80),(y))\n",
        "  addVertex_x((x-size*80),(y))\n",
        "  addVertex_x((x-size*80),(y+size*20))\n",
        "  gl.glEnd()\n",
        "  gl.glColor3f(0, 0, 0)\n",
        "  midPoint((x+size*80),(y+size*20),(x+size*80),(y))#border\n",
        "  midPoint((x+size*80),(y),(x-size*80),(y))\n",
        "  midPoint((x-size*80),(y),(x-size*80),(y+size*20))\n",
        "  midPoint((x-size*80),(y+size*20),(x+size*80),(y+size*20))\n",
        "  dif=((size*80+x-x+size*80))//4\n",
        "  for temp in range(((x-size*80))+dif,(x+size*80),dif):#windows\n",
        "    gl.glColor3f(0,0,0)\n",
        "    block_circle(temp,((y+(y+size*20))//2),((y+size*20-y)//2)-size*6)\n",
        "\n",
        "  gl.glColor3f(1,1, 1)\n",
        "  gl.glBegin(gl.GL_QUADS)#floor2\n",
        "  addVertex_x((x+size*60),(y+size*30))\n",
        "  addVertex_x((x+size*60),(y+size*20))\n",
        "  addVertex_x((x-size*60),(y+size*20))\n",
        "  addVertex_x((x-size*60),(y+size*30))\n",
        "  gl.glEnd()\n",
        "  gl.glColor3f(0, 0, 0)\n",
        "  midPoint((x+size*60),(y+size*30),(x+size*60),(y+size*20))#border\n",
        "  midPoint((x+size*60),(y+size*20),(x-size*60),(y+size*20))\n",
        "  midPoint((x-size*60),(y+size*20),(x-size*60),(y+size*30))\n",
        "  midPoint((x-size*60),(y+size*30),(x+size*60),(y+size*30))\n",
        "  dif=((size*60+x-x+size*60))//4\n",
        "  for temp in range(((x-size*60))+dif,(x+size*60),dif):#windows\n",
        "    gl.glColor3f(0,0,0)\n",
        "    block_circle(temp,(((y+size*30)+(y+size*21))//2),(((y+size*30-(y+size*21))//2)-size*3))\n",
        "\n",
        "  gl.glColor3f(0.6, 0.6, 0.6)\n",
        "  gl.glBegin(gl.GL_QUADS)#chimney\n",
        "  addVertex_x((x+size*15),(y+size*45))\n",
        "  addVertex_x((x+size*15),(y+size*30))\n",
        "  addVertex_x((x-size*15),(y+size*30))\n",
        "  addVertex_x((x-size*15),(y+size*45))\n",
        "  gl.glEnd()\n",
        "  gl.glColor3f(0, 0, 0)\n",
        "  midPoint((x+size*15),(y+size*45),(x+size*15),(y+size*30))#border\n",
        "  midPoint((x+size*15),(y+size*30),(x-size*15),(y+size*30))\n",
        "  midPoint((x-size*15),(y+size*30),(x-size*15),(y+size*45))\n",
        "  midPoint((x-size*15),(y+size*45),(x+size*15),(y+size*45))\n",
        "  gl.glColor3f(0.6, 0.6, 0.6)\n",
        "  x_c,y_c=x,(size*53+y)#smoke\n",
        "  t=random.randint(2,4)\n",
        "  for i in range(t):\n",
        "    block_circle(x_c,y_c,size*5)\n",
        "    x_c-=size*15\n",
        "  gl.glColor3f(0,0.4, 0)\n",
        "  gl.glBegin(gl.GL_QUADS)#Flag\n",
        "  addVertex_x((x+size*60),(y+size*50))\n",
        "  addVertex_x((x+size*60),(y+size*35))\n",
        "  addVertex_x((x+size*30),(y+size*35))\n",
        "  addVertex_x((x+size*30),(y+size*50))\n",
        "  gl.glEnd()\n",
        "  gl.glColor3f(0, 0, 0)\n",
        "  midPoint((x+size*60),(y+size*50),(x+size*60),(y+size*30))#border\n",
        "  midPoint((x+size*60),(y+size*35),(x+size*30),(y+size*35))\n",
        "  midPoint((x+size*30),(y+size*35),(x+size*30),(y+size*50))\n",
        "  midPoint((x+size*30),(y+size*50),(x+size*60),(y+size*50))\n",
        "  gl.glColor3f(0.8, 0, 0)\n",
        "  block_circle(((x+size*60)+(x+size*30))//2,((y+size*50)+(y+size*35))//2,size*4)"
      ],
      "metadata": {
        "id": "BXWhp7tQYtaG"
      },
      "execution_count": null,
      "outputs": []
    },
    {
      "cell_type": "code",
      "source": [
        "def background(time=\"Night\",cloudy=\"Yes\",cloud_num=1,cloud_rad=60,star_num=100,sun_or_moon_size=1,wave_num=10,ship_x=0,ship_y=-230,ship_size=2):\n",
        "  #gl.glClear(gl.GL_COLOR_BUFFER_BIT)\n",
        "  sky(time)\n",
        "  if time==\"Night\":\n",
        "    star(star_num)\n",
        "    moon(sun_or_moon_size)\n",
        "    ocean(time,wave_num)\n",
        "    ship(ship_x,ship_y,ship_size)\n",
        "  else:\n",
        "    sun(time,sun_or_moon_size)\n",
        "    if cloudy==\"Yes\":\n",
        "      cloud(cloud_num,cloud_rad)\n",
        "    ocean(time,wave_num)\n",
        "    ship(ship_x,ship_y,ship_size)"
      ],
      "metadata": {
        "id": "Di1qWVATbpWM"
      },
      "execution_count": null,
      "outputs": []
    },
    {
      "cell_type": "code",
      "source": [
        "gl.glClear(gl.GL_COLOR_BUFFER_BIT)\n",
        "background()\n",
        "from PIL import Image\n",
        "from IPython.display import clear_output #render library\n",
        "from IPython.display import display #render library\n",
        "img_buf = gl.glReadPixelsub(0, 0, WIDTH, HEIGHT, gl.GL_RGB, gl.GL_UNSIGNED_BYTE)\n",
        "img = np.frombuffer(img_buf,np.uint8).reshape(HEIGHT, WIDTH, 3)[::-1]\n",
        "display(Image.fromarray(img,'RGB'))"
      ],
      "metadata": {
        "colab": {
          "base_uri": "https://localhost:8080/",
          "height": 1000
        },
        "id": "lvbL0plML7wb",
        "outputId": "8a25c058-66a2-46ab-a0a5-e8ec3ef2ba9d"
      },
      "execution_count": null,
      "outputs": [
        {
          "output_type": "display_data",
          "data": {
            "text/plain": [
              "<PIL.Image.Image image mode=RGB size=1500x1000 at 0x7F76131BB100>"
            ],
            "image/png": "[encoded data removed]"
          },
          "metadata": {}
        }
      ]
    },
    {
      "cell_type": "code",
      "source": [
        "import time  #animate\n",
        "from IPython.display import clear_output #render library\n",
        "from IPython.display import display #render library\n",
        "from PIL import Image #render library\n",
        "def render(): #animate\n",
        "  img_buf = gl.glReadPixelsub(0, 0, WIDTH, HEIGHT, gl.GL_RGB, gl.GL_UNSIGNED_BYTE)\n",
        "  img = np.frombuffer(img_buf,np.uint8).reshape(HEIGHT, WIDTH, 3)[::-1]\n",
        "  display(Image.fromarray(img,'RGB'))"
      ],
      "metadata": {
        "id": "kG8OuzDqWHS0"
      },
      "execution_count": null,
      "outputs": []
    },
    {
      "cell_type": "code",
      "source": [
        "tim=input(\"Enter you preffered time(Available: Morning, Noon, Afternoon, Night): \")\n",
        "if tim!=\"Night\":\n",
        "  sun_or_moon_size=int(input(\"Enter your sun size(recommended size<=4): \"))\n",
        "  if sun_or_moon_size<1 or sun_or_moon_size>4:\n",
        "    if sun_or_moon_size<1:\n",
        "      sun_or_moon_size=1\n",
        "    else:\n",
        "      sun_or_moon_size=4\n",
        "\n",
        "  cloudy=input(\"Is your sky cloudy? \")\n",
        "  if cloudy==\"Yes\":\n",
        "   cloud_num=int(input(\"Enter your cloud count(recommended=5): \"))\n",
        "   cloud_rad=int(input(\"Enter your cloud radious(recommended=65): \"))\n",
        "  else:\n",
        "    cloud_num=0\n",
        "    cloud_rad=0\n",
        "  star_num=0\n",
        "else:\n",
        "  cloudy=\"No\"\n",
        "  cloud_num=0\n",
        "  cloud_rad=0\n",
        "  star_num=int(input(\"Enter your star count(recommended number>=100): \"))\n",
        "  sun_or_moon_size=int(input(\"Enter your moon size(recommended size<=4): \"))\n",
        "  if sun_or_moon_size<1 or sun_or_moon_size>4:\n",
        "    if sun_or_moon_size<1:\n",
        "      sun_or_moon_size=1\n",
        "    else:\n",
        "      sun_or_moon_size=4\n",
        "\n",
        "wave_num=int(input(\"Enter your wave count(recommended number<=10): \"))\n",
        "ship_x=int(input(\"Enter x co-ordinate for your ship(recommende x=(-750 to-700)): \"))\n",
        "ship_y=int(input(\"Enter y co-ordinate for your ship(recommende y=(-230 to 0)): \"))\n",
        "ship_size=int(input(\"Enter your ship size(recommended size<=2): \"))\n",
        "if ship_x <-750 or ship_x>750:\n",
        "  if ship_x<-750:\n",
        "    ship_x=-750\n",
        "  else:\n",
        "    ship_x=0\n",
        "if ship_y>0 or ship_y<-400:\n",
        "  if ship_y>0:\n",
        "    ship_y=0\n",
        "  else:\n",
        "    ship_y=-400\n",
        "if ship_size<1 or ship_size>3:\n",
        "  if ship_size<1:\n",
        "    ship_size=1\n",
        "  else:\n",
        "    ship_size=3\n",
        "diff_x=int(input(\"Enter your x axis velocity(recommended velocity<=150): \"))\n",
        "diff_y=int(input(\"Enter your y axis velocity(recommended velocity=0): \"))\n",
        "while(ship_x<750):\n",
        "  gl.glClear(gl.GL_COLOR_BUFFER_BIT)\n",
        "  background(tim,cloudy,cloud_num,cloud_rad,star_num,sun_or_moon_size,wave_num,ship_x,ship_y,ship_size)\n",
        "  if ship_y<=0:\n",
        "   a,b=translation(ship_x,ship_y,diff_x,diff_y)\n",
        "   ship_x,ship_y=a[0],b[0]\n",
        "  else:\n",
        "   a,b=translation(ship_x,ship_y,diff_x,0)\n",
        "   ship_x,ship_y=a[0],b[0]\n",
        "  render() #animate\n",
        "  time.sleep(0.7) #animate\n",
        "  clear_output(wait=True) #this actually refreshes the window\n",
        "#render()"
      ],
      "metadata": {
        "id": "ANi7Wf-hbL9Y",
        "colab": {
          "base_uri": "https://localhost:8080/",
          "height": 1000
        },
        "outputId": "9086eeaf-77f3-4bcc-ec3a-716d70399512"
      },
      "execution_count": null,
      "outputs": [
        {
          "output_type": "display_data",
          "data": {
            "text/plain": [
              "<PIL.Image.Image image mode=RGB size=1500x1000 at 0x7F7607DA1490>"
            ],
            "image/png": "[encoded data removed]"
          },
          "metadata": {}
        }
      ]
    },
    {
      "cell_type": "code",
      "source": [
        "'''import math\n",
        "import random\n",
        "def ship(x=0,y=-230,size=1):\n",
        "  gl.glColor3f(0,0,0)\n",
        "  gl.glBegin(gl.GL_QUADS)#base\n",
        "  addVertex_x(size*(x+100),size*(y))\n",
        "  addVertex_x(size*(x+80),size*(y-30))\n",
        "  addVertex_x(size*(x-80),size*(y-30))\n",
        "  addVertex_x(size*(x-100),size*(y))\n",
        "  gl.glEnd()\n",
        "  gl.glColor3f(0, 0, 0)\n",
        "  midPoint(size*(x+100),size*(y),size*(x+80),size*(y-30))#border\n",
        "  midPoint(size*(x+80),size*(y-30),size*(x-80),size*(y-30))\n",
        "  midPoint(size*(x-80),size*(y-30),size*(x-100),size*(y))\n",
        "  midPoint(size*(x-100),size*(y),size*(x+100),size*(y))\n",
        "  dif=(size*(100+x-x+100))//4\n",
        "  for temp in range((size*(x-100))+dif,size*(x+100),dif):#windows\n",
        "    gl.glColor3f(1,1,0)\n",
        "    block_circle(temp,(size*(y+(y-30))//2),(size*(y-(y-30))//2)-size*10)\n",
        "\n",
        "  gl.glColor3f(1,1,1)\n",
        "  gl.glBegin(gl.GL_QUADS)#floor1\n",
        "  addVertex_x(size*(x+80),size*(y+20))\n",
        "  addVertex_x(size*(x+80),size*(y))\n",
        "  addVertex_x(size*(x-80),size*(y))\n",
        "  addVertex_x(size*(x-80),size*(y+20))\n",
        "  gl.glEnd()\n",
        "  gl.glColor3f(0, 0, 0)\n",
        "  midPoint(size*(x+80),size*(y+20),size*(x+80),size*(y))#border\n",
        "  midPoint(size*(x+80),size*(y),size*(x-80),size*(y))\n",
        "  midPoint(size*(x-80),size*(y),size*(x-80),size*(y+20))\n",
        "  midPoint(size*(x-80),size*(y+20),size*(x+80),size*(y+20))\n",
        "  dif=(size*(80+x-x+80))//4\n",
        "  for temp in range((size*(x-80))+dif,size*(x+80),dif):#windows\n",
        "    gl.glColor3f(0,0,0)\n",
        "    block_circle(temp,(size*(y+(y+20))//2),(size*(y+20-y)//2)-size*6)\n",
        "\n",
        "  gl.glColor3f(1,1, 1)\n",
        "  gl.glBegin(gl.GL_QUADS)#floor2\n",
        "  addVertex_x(size*(x+60),size*(y+30))\n",
        "  addVertex_x(size*(x+60),size*(y+20))\n",
        "  addVertex_x(size*(x-60),size*(y+20))\n",
        "  addVertex_x(size*(x-60),size*(y+30))\n",
        "  gl.glEnd()\n",
        "  gl.glColor3f(0, 0, 0)\n",
        "  midPoint(size*(x+60),size*(y+30),size*(x+60),size*(y+20))#border\n",
        "  midPoint(size*(x+60),size*(y+20),size*(x-60),size*(y+20))\n",
        "  midPoint(size*(x-60),size*(y+20),size*(x-60),size*(y+30))\n",
        "  midPoint(size*(x-60),size*(y+30),size*(x+60),size*(y+30))\n",
        "  dif=(size*(60+x-x+60))//4\n",
        "  for temp in range((size*(x-60))+dif,size*(x+60),dif):#windows\n",
        "    gl.glColor3f(0,0,0)\n",
        "    block_circle(temp,(size*((y+30)+(y+21))//2),((size*(y+30-(y+21))//2)-size*3))\n",
        "\n",
        "  gl.glColor3f(0.6, 0.6, 0.6)\n",
        "  gl.glBegin(gl.GL_QUADS)#chimney\n",
        "  addVertex_x(size*(x+15),size*(y+45))\n",
        "  addVertex_x(size*(x+15),size*(y+30))\n",
        "  addVertex_x(size*(x-15),size*(y+30))\n",
        "  addVertex_x(size*(x-15),size*(y+45))\n",
        "  gl.glEnd()\n",
        "  gl.glColor3f(0, 0, 0)\n",
        "  midPoint(size*(x+15),size*(y+45),size*(x+15),size*(y+30))#border\n",
        "  midPoint(size*(x+15),size*(y+30),size*(x-15),size*(y+30))\n",
        "  midPoint(size*(x-15),size*(y+30),size*(x-15),size*(y+45))\n",
        "  midPoint(size*(x-15),size*(y+45),size*(x+15),size*(y+45))\n",
        "  gl.glColor3f(0.6, 0.6, 0.6)\n",
        "  x_c,y_c=size*x,size*(53+y)#smoke\n",
        "  t=4#random.randint(2,4)\n",
        "  for i in range(t):\n",
        "    block_circle(x_c,y_c,size*5)\n",
        "    x_c-=size*15\n",
        "  gl.glColor3f(0,0.4, 0)\n",
        "  gl.glBegin(gl.GL_QUADS)#Flag\n",
        "  addVertex_x(size*(x+60),size*(y+50))\n",
        "  addVertex_x(size*(x+60),size*(y+35))\n",
        "  addVertex_x(size*(x+30),size*(y+35))\n",
        "  addVertex_x(size*(x+30),size*(y+50))\n",
        "  gl.glEnd()\n",
        "  gl.glColor3f(0, 0, 0)\n",
        "  midPoint(size*(x+60),size*(y+50),size*(x+60),size*(y+30))#border\n",
        "  midPoint(size*(x+60),size*(y+35),size*(x+30),size*(y+35))\n",
        "  midPoint(size*(x+30),size*(y+35),size*(x+30),size*(y+50))\n",
        "  midPoint(size*(x+30),size*(y+50),size*(x+60),size*(y+50))\n",
        "  gl.glColor3f(0.8, 0, 0)\n",
        "  block_circle((size*(x+60)+size*(x+30))//2,(size*(y+50)+size*(y+35))//2,4)'''"
      ],
      "metadata": {
        "id": "RYo4mpC4qkWU",
        "colab": {
          "base_uri": "https://localhost:8080/",
          "height": 140
        },
        "outputId": "948c04d7-7e28-4ba0-9e79-c50894df6346"
      },
      "execution_count": null,
      "outputs": [
        {
          "output_type": "execute_result",
          "data": {
            "text/plain": [
              "'import math\\nimport random\\ndef ship(x=0,y=-230,size=1):\\n  gl.glColor3f(0,0,0)\\n  gl.glBegin(gl.GL_QUADS)#base\\n  addVertex_x(size*(x+100),size*(y))\\n  addVertex_x(size*(x+80),size*(y-30))\\n  addVertex_x(size*(x-80),size*(y-30))\\n  addVertex_x(size*(x-100),size*(y))\\n  gl.glEnd()\\n  gl.glColor3f(0, 0, 0)\\n  midPoint(size*(x+100),size*(y),size*(x+80),size*(y-30))#border\\n  midPoint(size*(x+80),size*(y-30),size*(x-80),size*(y-30))\\n  midPoint(size*(x-80),size*(y-30),size*(x-100),size*(y))\\n  midPoint(size*(x-100),size*(y),size*(x+100),size*(y))\\n  dif=(size*(100+x-x+100))//4\\n  for temp in range((size*(x-100))+dif,size*(x+100),dif):#windows\\n    gl.glColor3f(1,1,0)\\n    block_circle(temp,(size*(y+(y-30))//2),(size*(y-(y-30))//2)-size*10)\\n  \\n  gl.glColor3f(1,1,1)\\n  gl.glBegin(gl.GL_QUADS)#floor1\\n  addVertex_x(size*(x+80),size*(y+20))\\n  addVertex_x(size*(x+80),size*(y))\\n  addVertex_x(size*(x-80),size*(y))\\n  addVertex_x(size*(x-80),size*(y+20))\\n  gl.glEnd()\\n  gl.glColor3f(0, 0, 0)\\n  midPoint(size*(x+80),size*(y+20),size*(x+80),size*(y))#border\\n  midPoint(size*(x+80),size*(y),size*(x-80),size*(y))\\n  midPoint(size*(x-80),size*(y),size*(x-80),size*(y+20))\\n  midPoint(size*(x-80),size*(y+20),size*(x+80),size*(y+20))\\n  dif=(size*(80+x-x+80))//4\\n  for temp in range((size*(x-80))+dif,size*(x+80),dif):#windows\\n    gl.glColor3f(0,0,0)\\n    block_circle(temp,(size*(y+(y+20))//2),(size*(y+20-y)//2)-size*6)\\n\\n  gl.glColor3f(1,1, 1)\\n  gl.glBegin(gl.GL_QUADS)#floor2\\n  addVertex_x(size*(x+60),size*(y+30))\\n  addVertex_x(size*(x+60),size*(y+20))\\n  addVertex_x(size*(x-60),size*(y+20))\\n  addVertex_x(size*(x-60),size*(y+30))\\n  gl.glEnd()\\n  gl.glColor3f(0, 0, 0)\\n  midPoint(size*(x+60),size*(y+30),size*(x+60),size*(y+20))#border\\n  midPoint(size*(x+60),size*(y+20),size*(x-60),size*(y+20))\\n  midPoint(size*(x-60),size*(y+20),size*(x-60),size*(y+30))\\n  midPoint(size*(x-60),size*(y+30),size*(x+60),size*(y+30))\\n  dif=(size*(60+x-x+60))//4\\n  for temp in range((size*(x-60))+dif,size*(x+60),dif):#windows\\n    gl.glColor3f(0,0,0)\\n    block_circle(temp,(size*((y+30)+(y+21))//2),((size*(y+30-(y+21))//2)-size*3))\\n  \\n  gl.glColor3f(0.6, 0.6, 0.6)\\n  gl.glBegin(gl.GL_QUADS)#chimney\\n  addVertex_x(size*(x+15),size*(y+45))\\n  addVertex_x(size*(x+15),size*(y+30))\\n  addVertex_x(size*(x-15),size*(y+30))\\n  addVertex_x(size*(x-15),size*(y+45))\\n  gl.glEnd()\\n  gl.glColor3f(0, 0, 0)\\n  midPoint(size*(x+15),size*(y+45),size*(x+15),size*(y+30))#border\\n  midPoint(size*(x+15),size*(y+30),size*(x-15),size*(y+30))\\n  midPoint(size*(x-15),size*(y+30),size*(x-15),size*(y+45))\\n  midPoint(size*(x-15),size*(y+45),size*(x+15),size*(y+45))\\n  gl.glColor3f(0.6, 0.6, 0.6)\\n  x_c,y_c=size*x,size*(53+y)#smoke\\n  t=4#random.randint(2,4)\\n  for i in range(t):\\n    block_circle(x_c,y_c,size*5)\\n    x_c-=size*15\\n  gl.glColor3f(0,0.4, 0)\\n  gl.glBegin(gl.GL_QUADS)#Flag\\n  addVertex_x(size*(x+60),size*(y+50))\\n  addVertex_x(size*(x+60),size*(y+35))\\n  addVertex_x(size*(x+30),size*(y+35))\\n  addVertex_x(size*(x+30),size*(y+50))\\n  gl.glEnd()\\n  gl.glColor3f(0, 0, 0)\\n  midPoint(size*(x+60),size*(y+50),size*(x+60),size*(y+30))#border\\n  midPoint(size*(x+60),size*(y+35),size*(x+30),size*(y+35))\\n  midPoint(size*(x+30),size*(y+35),size*(x+30),size*(y+50))\\n  midPoint(size*(x+30),size*(y+50),size*(x+60),size*(y+50))\\n  gl.glColor3f(0.8, 0, 0)\\n  block_circle((size*(x+60)+size*(x+30))//2,(size*(y+50)+size*(y+35))//2,4)'"
            ],
            "application/vnd.google.colaboratory.intrinsic+json": {
              "type": "string"
            }
          },
          "metadata": {},
          "execution_count": 155
        }
      ]
    }
  ]
}